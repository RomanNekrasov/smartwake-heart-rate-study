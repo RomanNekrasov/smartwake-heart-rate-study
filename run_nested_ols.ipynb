{
 "cells": [
  {
   "cell_type": "code",
   "execution_count": 2,
   "metadata": {},
   "outputs": [],
   "source": [
    "# Lets read in aggregated_df.csv and run a linear regression on it\n",
    "import pandas as pd\n",
    "import numpy as np\n",
    "import matplotlib.pyplot as plt\n",
    "import seaborn as sns\n",
    "import statsmodels.api as sm\n",
    "from statsmodels.formula.api import ols\n",
    "import statsmodels.formula.api as smf"
   ]
  },
  {
   "cell_type": "code",
   "execution_count": 3,
   "metadata": {},
   "outputs": [
    {
     "name": "stdout",
     "output_type": "stream",
     "text": [
      "Index(['person_id', 'drinks', 'fastfood', 'sports', 'food_2h_before_sleep',\n",
      "       'medication', 'date_created', 'woke_up_by_(smart)_alarm',\n",
      "       'woke_up_by_external_factors', 'yesterday', 'slept_again_after_alarm',\n",
      "       'smart_alarm', 'date', 'time_of_awakening', 'state_before_awakening',\n",
      "       'number_of_measurements', 'average_heart_rate',\n",
      "       'average_lowest_three_obs', 'average_first_ten_min',\n",
      "       'average_first_thirty_min'],\n",
      "      dtype='object')\n"
     ]
    }
   ],
   "source": [
    "df = pd.read_csv('data/aggregated_df.csv')\n",
    "# Rename columns by replacing spaces with underscores\n",
    "df.columns = df.columns.str.replace(' ', '_').str.lower()\n",
    "print(df.columns)"
   ]
  },
  {
   "cell_type": "code",
   "execution_count": 5,
   "metadata": {},
   "outputs": [
    {
     "name": "stdout",
     "output_type": "stream",
     "text": [
      "                                               Model         AIC         BIC  \\\n",
      "0                                         medication  899.753907  905.172967   \n",
      "1                                medication + drinks  899.871045  907.999636   \n",
      "2                  medication + drinks + smart_alarm  901.429344  912.267465   \n",
      "3         medication + drinks + smart_alarm + sports  903.426597  916.974248   \n",
      "4  medication + drinks + smart_alarm + sports + f...  904.780352  921.037533   \n",
      "5  medication + drinks + smart_alarm + sports + f...  906.534394  925.501106   \n",
      "\n",
      "   R-squared  Adj. R-squared  Intercept  medication    drinks smart_alarm  \\\n",
      "0   0.152967        0.145196  76.284489   13.727288                         \n",
      "1   0.167214        0.151792  77.136035   13.432522 -4.825428               \n",
      "2   0.170521        0.147264  77.953118   13.457550 -5.163321   -1.740098   \n",
      "3   0.170541        0.139241  78.026954   13.440789 -5.179936   -1.783177   \n",
      "4   0.175357        0.136088  77.603655   13.463174 -6.029748   -1.708624   \n",
      "5   0.177182        0.129712  77.358214   13.530343 -6.233635   -1.650274   \n",
      "\n",
      "     sports food_2h_before_sleep  fastfood  \n",
      "0                                           \n",
      "1                                           \n",
      "2                                           \n",
      "3 -0.152858                                 \n",
      "4 -0.621883             2.482119            \n",
      "5 -0.625311             2.345061  1.796472  \n"
     ]
    },
    {
     "name": "stderr",
     "output_type": "stream",
     "text": [
      "/var/folders/wt/crx1wxnx4t3792mvf_zzxcvm0000gn/T/ipykernel_9477/271790667.py:35: FutureWarning: Returning a DataFrame from Series.apply when the supplied function returns a Series is deprecated and will be removed in a future version.\n",
      "  coefficients = model_results_df['Coefficients'].apply(pd.Series)\n"
     ]
    }
   ],
   "source": [
    "# Function to add model results to a list\n",
    "def add_model_to_results(data, predictors, outcome, results_list):\n",
    "    formula = \"{} ~ {}\".format(outcome, ' + '.join(predictors))\n",
    "    model = smf.ols(formula, data=data).fit()\n",
    "    model_summary = {\n",
    "        'Model': ' + '.join(predictors),\n",
    "        'AIC': model.aic,\n",
    "        'BIC': model.bic,\n",
    "        'R-squared': model.rsquared,\n",
    "        'Adj. R-squared': model.rsquared_adj,\n",
    "        'Coefficients': model.params.to_dict()\n",
    "    }\n",
    "    results_list.append(model_summary)\n",
    "\n",
    "# Function to add predictors based on correlation\n",
    "def add_predictors_by_correlation(df, predictors, outcome):\n",
    "    correlation_with_outcome = df[predictors].corrwith(df[outcome]).abs().sort_values(ascending=False)\n",
    "    included = []\n",
    "    results_list = []\n",
    "    for predictor in correlation_with_outcome.index:\n",
    "        included.append(predictor)\n",
    "        add_model_to_results(df, included, outcome, results_list)\n",
    "    return included, results_list\n",
    "\n",
    "# Define your predictors and outcome variable\n",
    "predictors = ['smart_alarm', 'drinks', 'fastfood', 'sports', 'food_2h_before_sleep', 'medication']\n",
    "outcome_variable = 'average_heart_rate'\n",
    "\n",
    "# Run the function\n",
    "selected_predictors, model_summaries = add_predictors_by_correlation(df, predictors, outcome_variable)\n",
    "\n",
    "# Creating DataFrame from the list of model summaries\n",
    "model_results_df = pd.DataFrame(model_summaries)\n",
    "\n",
    "coefficients = model_results_df['Coefficients'].apply(pd.Series)\n",
    "coefficients = coefficients.fillna('')  # Replace NaN with empty strings for readability\n",
    "\n",
    "# Concatenate the coefficients to the readable DataFrame\n",
    "model_results_df = pd.concat([model_results_df, coefficients], axis=1)\n",
    "# drop the coefficients column\n",
    "model_results_df = model_results_df.drop('Coefficients', axis=1)\n",
    "# Display the formatted DataFrame\n",
    "print(model_results_df)"
   ]
  },
  {
   "cell_type": "code",
   "execution_count": 7,
   "metadata": {},
   "outputs": [],
   "source": [
    "def add_model_to_results(data, predictors, outcome, results_list):\n",
    "    formula = \"{} ~ {}\".format(outcome, ' + '.join(predictors))\n",
    "    model = smf.ols(formula, data=data).fit()\n",
    "    model_summary = {\n",
    "        'Model': ' + '.join(predictors),\n",
    "        'AIC': model.aic,\n",
    "        'BIC': model.bic,\n",
    "        'R-squared': model.rsquared,\n",
    "        'Adj. R-squared': model.rsquared_adj,\n",
    "        'Coefficients': model.params.to_dict()\n",
    "    }\n",
    "    results_list.append(model_summary)\n",
    "\n",
    "def stepwise_selection(X, y, initial_list=[], threshold_in=0.05, threshold_out=0.1):\n",
    "    included = list(initial_list)\n",
    "    results_list = []  # List to store model summaries\n",
    "    while True:\n",
    "        changed = False\n",
    "        # Forward step\n",
    "        excluded = list(set(X.columns) - set(included))\n",
    "        new_pval = pd.Series(index=excluded)\n",
    "        for new_column in excluded:\n",
    "            formula = \"{} ~ {}\".format(y, ' + '.join(included + [new_column]))\n",
    "            model = ols(formula, data=df).fit()\n",
    "            new_pval[new_column] = model.pvalues[new_column]\n",
    "        best_pval = new_pval.min()\n",
    "        if best_pval < threshold_in:\n",
    "            best_feature = new_pval.idxmin()\n",
    "            included.append(best_feature)\n",
    "            changed = True\n",
    "            add_model_to_results(df, included, y, results_list)\n",
    "        \n",
    "        \n",
    "        # Backward step\n",
    "        model = ols(\"{} ~ {}\".format(y, ' + '.join(included)), data=df).fit()\n",
    "        pvalues = model.pvalues.iloc[1:]\n",
    "        worst_pval = pvalues.max()\n",
    "        if worst_pval > threshold_out:\n",
    "            worst_feature = pvalues.idxmax()\n",
    "            included.remove(worst_feature)\n",
    "            changed = True\n",
    "            add_model_to_results(df, included, y, results_list)\n",
    "        \n",
    "        if not changed:\n",
    "            break\n",
    "    return included, results_list"
   ]
  },
  {
   "cell_type": "code",
   "execution_count": 11,
   "metadata": {},
   "outputs": [
    {
     "name": "stdout",
     "output_type": "stream",
     "text": [
      "        Model         AIC         BIC  R-squared  Adj. R-squared  \\\n",
      "0  medication  899.753907  905.172967   0.152967        0.145196   \n",
      "\n",
      "                                        Coefficients  \n",
      "0  {'Intercept': 76.28448916977632, 'medication':...  \n"
     ]
    }
   ],
   "source": [
    "# Running the stepwise selection\n",
    "predictors = ['smart_alarm', 'drinks', 'fastfood', 'sports', 'food_2h_before_sleep', 'medication']\n",
    "outcome_variable = 'average_heart_rate'\n",
    "\n",
    "selected_predictors, model_summaries = stepwise_selection(df[predictors], outcome_variable)\n",
    "\n",
    "# Creating DataFrame from the list of model summaries\n",
    "model_results_df = pd.DataFrame(model_summaries)\n",
    "\n",
    "# Print the results\n",
    "print(model_results_df)"
   ]
  },
  {
   "cell_type": "code",
   "execution_count": 9,
   "metadata": {},
   "outputs": [
    {
     "ename": "NameError",
     "evalue": "name 'data' is not defined",
     "output_type": "error",
     "traceback": [
      "\u001b[0;31m---------------------------------------------------------------------------\u001b[0m",
      "\u001b[0;31mNameError\u001b[0m                                 Traceback (most recent call last)",
      "Cell \u001b[0;32mIn[9], line 1\u001b[0m\n\u001b[0;32m----> 1\u001b[0m X \u001b[38;5;241m=\u001b[39m \u001b[43mdata\u001b[49m[[\u001b[38;5;124m'\u001b[39m\u001b[38;5;124mSmart alarm\u001b[39m\u001b[38;5;124m'\u001b[39m, \u001b[38;5;124m'\u001b[39m\u001b[38;5;124mDrinks\u001b[39m\u001b[38;5;124m'\u001b[39m, \u001b[38;5;124m'\u001b[39m\u001b[38;5;124mFastfood\u001b[39m\u001b[38;5;124m'\u001b[39m, \u001b[38;5;124m'\u001b[39m\u001b[38;5;124mSports\u001b[39m\u001b[38;5;124m'\u001b[39m, \u001b[38;5;124m'\u001b[39m\u001b[38;5;124mFood 2h before sleep\u001b[39m\u001b[38;5;124m'\u001b[39m, \n\u001b[1;32m      2\u001b[0m           \u001b[38;5;124m'\u001b[39m\u001b[38;5;124mMedication\u001b[39m\u001b[38;5;124m'\u001b[39m, \u001b[38;5;124m'\u001b[39m\u001b[38;5;124mWoke up by (smart) alarm\u001b[39m\u001b[38;5;124m'\u001b[39m, \u001b[38;5;124m'\u001b[39m\u001b[38;5;124mWoke up by external factors\u001b[39m\u001b[38;5;124m'\u001b[39m, \u001b[38;5;124m'\u001b[39m\u001b[38;5;124mSlept again after alarm\u001b[39m\u001b[38;5;124m'\u001b[39m, \n\u001b[1;32m      3\u001b[0m           \u001b[38;5;66;03m#'time_of_awakening', 'state_before_awakening'\u001b[39;00m\n\u001b[1;32m      4\u001b[0m           ]]\n\u001b[1;32m      5\u001b[0m y \u001b[38;5;241m=\u001b[39m data[\u001b[38;5;124m'\u001b[39m\u001b[38;5;124mAverage First Thirty min\u001b[39m\u001b[38;5;124m'\u001b[39m]\n\u001b[1;32m      7\u001b[0m \u001b[38;5;66;03m# Adding a constant to the model (for the intercept)\u001b[39;00m\n",
      "\u001b[0;31mNameError\u001b[0m: name 'data' is not defined"
     ]
    }
   ],
   "source": [
    "X = data[['Smart alarm', 'Drinks', 'Fastfood', 'Sports', 'Food 2h before sleep', \n",
    "          'Medication', 'Woke up by (smart) alarm', 'Woke up by external factors', 'Slept again after alarm', \n",
    "          #'time_of_awakening', 'state_before_awakening'\n",
    "          ]]\n",
    "y = data['Average First Thirty min']\n",
    "\n",
    "# Adding a constant to the model (for the intercept)\n",
    "X = sm.add_constant(X)\n",
    "\n",
    "# Fit the OLS model\n",
    "model = sm.OLS(y, X).fit()\n",
    "\n",
    "# View the summary of the model\n",
    "print(model.summary())\n"
   ]
  },
  {
   "cell_type": "code",
   "execution_count": null,
   "metadata": {},
   "outputs": [],
   "source": [
    "# Drop rows where y is missing\n",
    "data_clean = data.dropna(subset=['Average First Ten min'])\n",
    "X = data_clean[['Smart alarm', 'Drinks', 'Fastfood', 'Sports', 'Food 2h before sleep', \n",
    "          'Medication', 'Woke up by (smart) alarm', 'Woke up by external factors', 'Slept again after alarm', \n",
    "          #'time_of_awakening', 'state_before_awakening'\n",
    "          ]]\n",
    "y = data_clean['Average First Ten min']\n",
    "\n",
    "# Adding a constant to the model (for the intercept)\n",
    "X = sm.add_constant(X)\n",
    "\n",
    "# Fit the OLS model\n",
    "model = sm.OLS(y, X).fit()\n",
    "\n",
    "# View the summary of the model\n",
    "print(model.summary())\n"
   ]
  },
  {
   "cell_type": "code",
   "execution_count": null,
   "metadata": {},
   "outputs": [],
   "source": [
    "X = data[['Smart alarm', 'Drinks', 'Fastfood', 'Sports', 'Food 2h before sleep', \n",
    "          'Medication', 'Woke up by (smart) alarm', 'Woke up by external factors', 'Slept again after alarm', \n",
    "          #'time_of_awakening', 'state_before_awakening'\n",
    "          ]]\n",
    "y = data['Average Lowest Three obs']\n",
    "\n",
    "# Adding a constant to the model (for the intercept)\n",
    "X = sm.add_constant(X)\n",
    "\n",
    "# Fit the OLS model\n",
    "model = sm.OLS(y, X).fit()\n",
    "\n",
    "# View the summary of the model\n",
    "print(model.summary())\n"
   ]
  }
 ],
 "metadata": {
  "kernelspec": {
   "display_name": "Python 3",
   "language": "python",
   "name": "python3"
  },
  "language_info": {
   "codemirror_mode": {
    "name": "ipython",
    "version": 3
   },
   "file_extension": ".py",
   "mimetype": "text/x-python",
   "name": "python",
   "nbconvert_exporter": "python",
   "pygments_lexer": "ipython3",
   "version": "3.11.5"
  }
 },
 "nbformat": 4,
 "nbformat_minor": 2
}
