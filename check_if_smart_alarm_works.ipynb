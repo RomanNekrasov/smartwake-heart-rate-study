{
 "cells": [
  {
   "cell_type": "code",
   "execution_count": 1,
   "metadata": {},
   "outputs": [
    {
     "name": "stdout",
     "output_type": "stream",
     "text": [
      "Index(['Person ID', 'Drinks', 'Fastfood', 'Sports', 'Food 2h before sleep',\n",
      "       'Medication', 'Date created', 'Woke up by (smart) alarm',\n",
      "       'Woke up by external factors', 'Yesterday', 'Slept again after alarm',\n",
      "       'Smart alarm', 'Date', 'time_of_awakening', 'state_before_awakening',\n",
      "       'Number of Measurements', 'Average Heart Rate',\n",
      "       'Average Lowest Three obs', 'Average First Ten min',\n",
      "       'Average First Thirty min'],\n",
      "      dtype='object')\n"
     ]
    }
   ],
   "source": [
    "import pandas as pd\n",
    "import os\n",
    "import matplotlib.pyplot as plt\n",
    "import numpy as np\n",
    "import matplotlib.dates as mdates\n",
    "from format_the_data import format_mi_band_data\n",
    "from feature_engineering import get_wake_up_info, get_heartrate_data_for_interval\n",
    "from load_the_data import process_fitness_data\n",
    "import json\n",
    "from pprint import pprint\n",
    "pd.options.mode.chained_assignment = None\n",
    "data = pd.read_csv('aggregated_df.csv')\n",
    "print(data.columns)"
   ]
  },
  {
   "cell_type": "code",
   "execution_count": 4,
   "metadata": {},
   "outputs": [
    {
     "data": {
      "text/plain": [
       "state_before_awakening\n",
       "3.0    85\n",
       "4.0     1\n",
       "Name: count, dtype: int64"
      ]
     },
     "execution_count": 4,
     "metadata": {},
     "output_type": "execute_result"
    }
   ],
   "source": [
    "data['state_before_awakening'].value_counts()"
   ]
  },
  {
   "cell_type": "code",
   "execution_count": null,
   "metadata": {},
   "outputs": [],
   "source": []
  }
 ],
 "metadata": {
  "kernelspec": {
   "display_name": "Python 3",
   "language": "python",
   "name": "python3"
  },
  "language_info": {
   "codemirror_mode": {
    "name": "ipython",
    "version": 3
   },
   "file_extension": ".py",
   "mimetype": "text/x-python",
   "name": "python",
   "nbconvert_exporter": "python",
   "pygments_lexer": "ipython3",
   "version": "3.11.5"
  }
 },
 "nbformat": 4,
 "nbformat_minor": 2
}
