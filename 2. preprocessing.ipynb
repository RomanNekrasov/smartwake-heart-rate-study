{
 "cells": [
  {
   "cell_type": "code",
   "execution_count": 2,
   "metadata": {},
   "outputs": [],
   "source": [
    "import pandas as pd\n",
    "\n",
    "import functions\n",
    "from importlib import reload\n",
    "reload(functions)\n",
    "\n",
    "import warnings\n",
    "warnings.filterwarnings('ignore')"
   ]
  },
  {
   "cell_type": "markdown",
   "metadata": {},
   "source": [
    "### Load structured data "
   ]
  },
  {
   "cell_type": "code",
   "execution_count": 3,
   "metadata": {},
   "outputs": [],
   "source": [
    "behaviour_tracking_data = pd.read_excel('data/Behavioural data app.xlsx')\n",
    "\n",
    "x_heart_rate_df = pd.read_csv('data/x_heart_rate.csv')\n",
    "x_sleep_df = pd.read_csv('data/x_sleep.csv')\n",
    "\n",
    "a_heart_rate_df = pd.read_csv('data/a_heart_rate.csv')\n",
    "a_sleep_df = pd.read_csv('data/a_sleep.csv')\n"
   ]
  },
  {
   "cell_type": "markdown",
   "metadata": {},
   "source": [
    "### Merge sleep data and behavioral data into \"aggregated_df\""
   ]
  },
  {
   "cell_type": "code",
   "execution_count": 4,
   "metadata": {},
   "outputs": [],
   "source": [
    "aggregated_df = behaviour_tracking_data.copy()"
   ]
  },
  {
   "cell_type": "code",
   "execution_count": 5,
   "metadata": {},
   "outputs": [],
   "source": [
    "aggregated_df['Date'] = pd.to_datetime(aggregated_df['Date created']).dt.date\n",
    "\n",
    "# for apple watch\n",
    "aggregated_df_person_5 = aggregated_df[aggregated_df['Person ID'] == 5]\n",
    "aggregated_df_person_5 = functions.get_wake_up_info_applewatch(a_sleep_df, aggregated_df_person_5)\n",
    "\n",
    "# for mi band\n",
    "aggregated_df_rest = aggregated_df[aggregated_df['Person ID'] != 5]\n",
    "aggregated_df_rest = functions.get_wake_up_info_miband(x_sleep_df, aggregated_df_rest)\n",
    "\n",
    "# aggregate\n",
    "aggregated_df = pd.concat([aggregated_df_person_5, aggregated_df_rest], ignore_index=True)"
   ]
  },
  {
   "cell_type": "code",
   "execution_count": 6,
   "metadata": {},
   "outputs": [
    {
     "name": "stdout",
     "output_type": "stream",
     "text": [
      "119\n",
      "111\n"
     ]
    }
   ],
   "source": [
    "print(len(aggregated_df))\n",
    "# filter out the rows where the time_of_awakening is NaN\n",
    "aggregated_df = aggregated_df[~aggregated_df['time_of_awakening'].isna()].reset_index(drop=True)\n",
    "print(len(aggregated_df))"
   ]
  },
  {
   "cell_type": "markdown",
   "metadata": {},
   "source": [
    "Here 8 observations could not be linked due to missing sleepdata caused by Xiaomi export fail\n",
    "\n",
    "### Aggregate the heart rate for both types of devices"
   ]
  },
  {
   "cell_type": "code",
   "execution_count": 7,
   "metadata": {},
   "outputs": [],
   "source": [
    "# Only keep the relevant columns of heart rate data\n",
    "x_heart_rate_df = x_heart_rate_df[['Person ID', 'Time', 'bpm']]\n",
    "\n",
    "# Prepare apple_heart_rate_data for merging\n",
    "apple_data_prepared = a_heart_rate_df[['creationDate', 'value']].copy()\n",
    "apple_data_prepared.rename(columns={'value': 'bpm'}, inplace=True)\n",
    "apple_data_prepared['Person ID'] = 5\n",
    "\n",
    "# Convert 'creationDate' to Unix epoch time (seconds since epoch)\n",
    "apple_data_prepared['creationDate'] = pd.to_datetime(apple_data_prepared['creationDate'])\n",
    "apple_data_prepared['Time'] = apple_data_prepared['creationDate'].astype('int64') // 10**9\n",
    "\n",
    "# Drop the original 'creationDate' column\n",
    "apple_data_prepared.drop('creationDate', axis=1, inplace=True)\n",
    "\n",
    "# Use concat instead of append\n",
    "heart_rate_df = pd.concat([x_heart_rate_df, apple_data_prepared], ignore_index=True)\n",
    "heart_rate_df.to_csv('data/heart_rate.csv', index=False)"
   ]
  },
  {
   "cell_type": "markdown",
   "metadata": {},
   "source": [
    "### Add measures and combine heart rate data into \"aggregated_df\""
   ]
  },
  {
   "cell_type": "code",
   "execution_count": 8,
   "metadata": {},
   "outputs": [],
   "source": [
    "time_interval = 60  # Assuming a 60 minute interval\n",
    "\n",
    "# Add new columns for the statistics in behaviour_tracking_data\n",
    "aggregated_df['Number of Measurements'] = pd.NA\n",
    "aggregated_df['Average Heart Rate'] = pd.NA\n",
    "aggregated_df['Average Lowest Three obs'] = pd.NA\n",
    "aggregated_df['Average First Ten min'] = pd.NA\n",
    "aggregated_df['Average First Thirty min'] = pd.NA\n",
    "\n",
    "for index, row in aggregated_df.iterrows():\n",
    "    # Get heart rate data for the interval\n",
    "    heart_rate_data = functions.get_heartrate_data_for_interval(heart_rate_df, row['Person ID'], row['Date'], row['time_of_awakening'], time_interval)\n",
    "    \n",
    "    # Calculate the test statistics\n",
    "    num_measurements, avg_hr, avg_lowest_three, avg_first_ten, avg_first_thirty = functions.calculate_test_statistics_heartrate(heart_rate_data)\n",
    "\n",
    "    # Update the aggregated_df DataFrame with the new statistics\n",
    "    aggregated_df.at[index, 'Number of Measurements'] = num_measurements\n",
    "    aggregated_df.at[index, 'Average Heart Rate'] = avg_hr\n",
    "    aggregated_df.at[index, 'Average Lowest Three obs'] = avg_lowest_three\n",
    "    aggregated_df.at[index, 'Average First Ten min'] = avg_first_ten\n",
    "    aggregated_df.at[index, 'Average First Thirty min'] = avg_first_thirty"
   ]
  },
  {
   "cell_type": "markdown",
   "metadata": {},
   "source": [
    "### Filter data for OLS"
   ]
  },
  {
   "cell_type": "code",
   "execution_count": 22,
   "metadata": {},
   "outputs": [],
   "source": [
    "## For running OLS, we are only interested in the days on which the participants actually woke up by their alarm \n",
    "ols_df = aggregated_df[aggregated_df['Woke up by (smart) alarm'] == 1].reset_index()\n",
    "\n",
    "ols_df.to_csv('data/ols_df.csv', index=False)"
   ]
  },
  {
   "cell_type": "markdown",
   "metadata": {},
   "source": [
    "### In oude code worden hier de outliers weggehaald, maar idk of dat zomaar mag \n",
    "reden hiervoor was: sports activity or too little measurements "
   ]
  },
  {
   "cell_type": "markdown",
   "metadata": {},
   "source": [
    "### Small final changes on the dataframe to make further analysis easier"
   ]
  },
  {
   "cell_type": "code",
   "execution_count": 9,
   "metadata": {},
   "outputs": [],
   "source": [
    "# replace all False values with 0 and True values with 1 in aggregated_df\n",
    "aggregated_df = aggregated_df.replace(False, 0)\n",
    "aggregated_df = aggregated_df.replace(True, 1)"
   ]
  },
  {
   "cell_type": "code",
   "execution_count": 11,
   "metadata": {},
   "outputs": [],
   "source": [
    "aggregated_df.loc[aggregated_df['Yesterday'] == 1, 'Date'] -= pd.to_timedelta(1, unit='d')"
   ]
  },
  {
   "cell_type": "code",
   "execution_count": 13,
   "metadata": {},
   "outputs": [],
   "source": [
    "# Now we can remove the \"Yesterday\" column and save the dataset\n",
    "aggregated_df = aggregated_df.drop(columns=['Yesterday'])\n"
   ]
  },
  {
   "cell_type": "code",
   "execution_count": 21,
   "metadata": {},
   "outputs": [],
   "source": [
    "# Save the aggregated_df DataFrame to a csv file\n",
    "aggregated_df.to_csv('data/aggregated_df.csv', index=False)"
   ]
  }
 ],
 "metadata": {
  "kernelspec": {
   "display_name": "Python 3",
   "language": "python",
   "name": "python3"
  },
  "language_info": {
   "codemirror_mode": {
    "name": "ipython",
    "version": 3
   },
   "file_extension": ".py",
   "mimetype": "text/x-python",
   "name": "python",
   "nbconvert_exporter": "python",
   "pygments_lexer": "ipython3",
   "version": "3.11.7"
  }
 },
 "nbformat": 4,
 "nbformat_minor": 2
}
