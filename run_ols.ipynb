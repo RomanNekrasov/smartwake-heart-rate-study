{
 "cells": [
  {
   "cell_type": "code",
   "execution_count": 1,
   "metadata": {},
   "outputs": [],
   "source": [
    "# Lets read in aggregated_df.csv and run a linear regression on it\n",
    "import pandas as pd\n",
    "import numpy as np\n",
    "import matplotlib.pyplot as plt\n",
    "import seaborn as sns\n",
    "import statsmodels.api as sm"
   ]
  },
  {
   "cell_type": "code",
   "execution_count": 2,
   "metadata": {},
   "outputs": [
    {
     "name": "stdout",
     "output_type": "stream",
     "text": [
      "Index(['Person ID', 'Drinks', 'Fastfood', 'Sports', 'Food 2h before sleep',\n",
      "       'Medication', 'Date created', 'Woke up by (smart) alarm',\n",
      "       'Woke up by external factors', 'Yesterday', 'Slept again after alarm',\n",
      "       'Smart alarm', 'Date', 'time_of_awakening', 'state_before_awakening',\n",
      "       'Number of Measurements', 'Average Heart Rate',\n",
      "       'Average Lowest Three obs', 'Average First Ten min',\n",
      "       'Average First Thirty min'],\n",
      "      dtype='object')\n"
     ]
    }
   ],
   "source": [
    "data = pd.read_csv('data/aggregated_df.csv')\n",
    "print(data.columns)"
   ]
  },
  {
   "cell_type": "code",
   "execution_count": 3,
   "metadata": {},
   "outputs": [
    {
     "data": {
      "text/plain": [
       "array([[5, 0, 0, 0, 0, 1, '2023-10-01T20:37:08.000Z', 1, 0, 0, 0, 0,\n",
       "        '2023-10-01', '06:30:32', 3.0, 14, 57.0, 52.66666666666666,\n",
       "        53.75, 54.375]], dtype=object)"
      ]
     },
     "execution_count": 3,
     "metadata": {},
     "output_type": "execute_result"
    }
   ],
   "source": [
    "np.asarray(data[:1])"
   ]
  },
  {
   "cell_type": "code",
   "execution_count": 12,
   "metadata": {},
   "outputs": [
    {
     "name": "stdout",
     "output_type": "stream",
     "text": [
      "                            OLS Regression Results                            \n",
      "==============================================================================\n",
      "Dep. Variable:     Average Heart Rate   R-squared:                       0.211\n",
      "Model:                            OLS   Adj. R-squared:                  0.141\n",
      "Method:                 Least Squares   F-statistic:                     3.003\n",
      "Date:                Sat, 09 Dec 2023   Prob (F-statistic):            0.00325\n",
      "Time:                        11:19:02   Log-Likelihood:                -443.93\n",
      "No. Observations:                 111   AIC:                             907.9\n",
      "Df Residuals:                     101   BIC:                             935.0\n",
      "Df Model:                           9                                         \n",
      "Covariance Type:            nonrobust                                         \n",
      "===============================================================================================\n",
      "                                  coef    std err          t      P>|t|      [0.025      0.975]\n",
      "-----------------------------------------------------------------------------------------------\n",
      "const                          77.5814      4.886     15.878      0.000      67.889      87.274\n",
      "Smart alarm                    -2.0756      2.816     -0.737      0.463      -7.662       3.511\n",
      "Drinks                         -6.1704      3.845     -1.605      0.112     -13.798       1.457\n",
      "Fastfood                        1.7705      3.793      0.467      0.642      -5.754       9.295\n",
      "Sports                         -1.3710      3.092     -0.443      0.658      -7.504       4.762\n",
      "Food 2h before sleep            3.7423      3.264      1.147      0.254      -2.732      10.216\n",
      "Medication                     12.4444      3.177      3.918      0.000       6.143      18.746\n",
      "Woke up by (smart) alarm        2.1918      4.576      0.479      0.633      -6.886      11.270\n",
      "Woke up by external factors    -4.4561      5.185     -0.859      0.392     -14.741       5.829\n",
      "Slept again after alarm        -3.4769      4.237     -0.821      0.414     -11.882       4.928\n",
      "==============================================================================\n",
      "Omnibus:                        5.711   Durbin-Watson:                   1.560\n",
      "Prob(Omnibus):                  0.058   Jarque-Bera (JB):                5.176\n",
      "Skew:                           0.443   Prob(JB):                       0.0752\n",
      "Kurtosis:                       3.577   Cond. No.                         8.69\n",
      "==============================================================================\n",
      "\n",
      "Notes:\n",
      "[1] Standard Errors assume that the covariance matrix of the errors is correctly specified.\n"
     ]
    }
   ],
   "source": [
    "X = data[['Smart alarm', 'Drinks', 'Fastfood', 'Sports', 'Food 2h before sleep', \n",
    "          'Medication', 'Woke up by (smart) alarm', 'Woke up by external factors', 'Slept again after alarm', \n",
    "          #'time_of_awakening', 'state_before_awakening'\n",
    "          ]]\n",
    "y = data['Average Heart Rate']\n",
    "\n",
    "# Adding a constant to the model (for the intercept)\n",
    "X = sm.add_constant(X)\n",
    "\n",
    "# Fit the OLS model\n",
    "model = sm.OLS(y, X).fit()\n",
    "\n",
    "# View the summary of the model\n",
    "print(model.summary())\n"
   ]
  },
  {
   "cell_type": "code",
   "execution_count": 6,
   "metadata": {},
   "outputs": [
    {
     "name": "stdout",
     "output_type": "stream",
     "text": [
      "                               OLS Regression Results                               \n",
      "====================================================================================\n",
      "Dep. Variable:     Average First Thirty min   R-squared:                       0.182\n",
      "Model:                                  OLS   Adj. R-squared:                  0.109\n",
      "Method:                       Least Squares   F-statistic:                     2.499\n",
      "Date:                      Sat, 09 Dec 2023   Prob (F-statistic):             0.0127\n",
      "Time:                              11:06:36   Log-Likelihood:                -435.86\n",
      "No. Observations:                       111   AIC:                             891.7\n",
      "Df Residuals:                           101   BIC:                             918.8\n",
      "Df Model:                                 9                                         \n",
      "Covariance Type:                  nonrobust                                         \n",
      "===============================================================================================\n",
      "                                  coef    std err          t      P>|t|      [0.025      0.975]\n",
      "-----------------------------------------------------------------------------------------------\n",
      "const                          78.9390      4.543     17.374      0.000      69.926      87.952\n",
      "Smart alarm                    -1.9128      2.619     -0.730      0.467      -7.108       3.282\n",
      "Drinks                         -5.8819      3.575     -1.645      0.103     -12.974       1.210\n",
      "Fastfood                       -0.0924      3.527     -0.026      0.979      -7.090       6.905\n",
      "Sports                         -0.6786      2.875     -0.236      0.814      -6.381       5.024\n",
      "Food 2h before sleep            3.2472      3.035      1.070      0.287      -2.773       9.267\n",
      "Medication                      8.2897      2.954      2.806      0.006       2.430      14.149\n",
      "Woke up by (smart) alarm       -0.1815      4.255     -0.043      0.966      -8.623       8.260\n",
      "Woke up by external factors    -6.5731      4.821     -1.363      0.176     -16.137       2.991\n",
      "Slept again after alarm        -7.0095      3.940     -1.779      0.078     -14.825       0.806\n",
      "==============================================================================\n",
      "Omnibus:                        8.608   Durbin-Watson:                   1.835\n",
      "Prob(Omnibus):                  0.014   Jarque-Bera (JB):                9.037\n",
      "Skew:                           0.519   Prob(JB):                       0.0109\n",
      "Kurtosis:                       3.936   Cond. No.                         8.69\n",
      "==============================================================================\n",
      "\n",
      "Notes:\n",
      "[1] Standard Errors assume that the covariance matrix of the errors is correctly specified.\n"
     ]
    }
   ],
   "source": [
    "X = data[['Smart alarm', 'Drinks', 'Fastfood', 'Sports', 'Food 2h before sleep', \n",
    "          'Medication', 'Woke up by (smart) alarm', 'Woke up by external factors', 'Slept again after alarm', \n",
    "          #'time_of_awakening', 'state_before_awakening'\n",
    "          ]]\n",
    "y = data['Average First Thirty min']\n",
    "\n",
    "# Adding a constant to the model (for the intercept)\n",
    "X = sm.add_constant(X)\n",
    "\n",
    "# Fit the OLS model\n",
    "model = sm.OLS(y, X).fit()\n",
    "\n",
    "# View the summary of the model\n",
    "print(model.summary())\n"
   ]
  },
  {
   "cell_type": "code",
   "execution_count": 11,
   "metadata": {},
   "outputs": [
    {
     "name": "stdout",
     "output_type": "stream",
     "text": [
      "                              OLS Regression Results                             \n",
      "=================================================================================\n",
      "Dep. Variable:     Average First Ten min   R-squared:                       0.148\n",
      "Model:                               OLS   Adj. R-squared:                  0.070\n",
      "Method:                    Least Squares   F-statistic:                     1.905\n",
      "Date:                   Sat, 09 Dec 2023   Prob (F-statistic):             0.0597\n",
      "Time:                           11:13:02   Log-Likelihood:                -428.11\n",
      "No. Observations:                    109   AIC:                             876.2\n",
      "Df Residuals:                         99   BIC:                             903.1\n",
      "Df Model:                              9                                         \n",
      "Covariance Type:               nonrobust                                         \n",
      "===============================================================================================\n",
      "                                  coef    std err          t      P>|t|      [0.025      0.975]\n",
      "-----------------------------------------------------------------------------------------------\n",
      "const                          79.9234      4.568     17.495      0.000      70.859      88.988\n",
      "Smart alarm                    -3.9497      2.658     -1.486      0.140      -9.224       1.325\n",
      "Drinks                         -7.6166      3.587     -2.124      0.036     -14.734      -0.500\n",
      "Fastfood                       -0.2593      3.536     -0.073      0.942      -7.276       6.757\n",
      "Sports                         -1.9663      2.895     -0.679      0.499      -7.711       3.779\n",
      "Food 2h before sleep            4.0065      3.049      1.314      0.192      -2.044      10.057\n",
      "Medication                      5.7498      2.971      1.936      0.056      -0.145      11.644\n",
      "Woke up by (smart) alarm       -1.6211      4.268     -0.380      0.705     -10.089       6.847\n",
      "Woke up by external factors    -7.2595      4.861     -1.493      0.139     -16.906       2.387\n",
      "Slept again after alarm        -4.0484      3.950     -1.025      0.308     -11.887       3.790\n",
      "==============================================================================\n",
      "Omnibus:                       24.435   Durbin-Watson:                   2.381\n",
      "Prob(Omnibus):                  0.000   Jarque-Bera (JB):               44.579\n",
      "Skew:                           0.938   Prob(JB):                     2.09e-10\n",
      "Kurtosis:                       5.509   Cond. No.                         8.65\n",
      "==============================================================================\n",
      "\n",
      "Notes:\n",
      "[1] Standard Errors assume that the covariance matrix of the errors is correctly specified.\n"
     ]
    }
   ],
   "source": [
    "# Drop rows where y is missing\n",
    "data_clean = data.dropna(subset=['Average First Ten min'])\n",
    "X = data_clean[['Smart alarm', 'Drinks', 'Fastfood', 'Sports', 'Food 2h before sleep', \n",
    "          'Medication', 'Woke up by (smart) alarm', 'Woke up by external factors', 'Slept again after alarm', \n",
    "          #'time_of_awakening', 'state_before_awakening'\n",
    "          ]]\n",
    "y = data_clean['Average First Ten min']\n",
    "\n",
    "# Adding a constant to the model (for the intercept)\n",
    "X = sm.add_constant(X)\n",
    "\n",
    "# Fit the OLS model\n",
    "model = sm.OLS(y, X).fit()\n",
    "\n",
    "# View the summary of the model\n",
    "print(model.summary())\n"
   ]
  }
 ],
 "metadata": {
  "kernelspec": {
   "display_name": "Python 3",
   "language": "python",
   "name": "python3"
  },
  "language_info": {
   "codemirror_mode": {
    "name": "ipython",
    "version": 3
   },
   "file_extension": ".py",
   "mimetype": "text/x-python",
   "name": "python",
   "nbconvert_exporter": "python",
   "pygments_lexer": "ipython3",
   "version": "3.11.7"
  }
 },
 "nbformat": 4,
 "nbformat_minor": 2
}
