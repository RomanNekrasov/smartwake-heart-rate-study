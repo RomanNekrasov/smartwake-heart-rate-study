{
 "cells": [
  {
   "cell_type": "code",
   "execution_count": 1,
   "metadata": {},
   "outputs": [],
   "source": [
    "# Lets read in aggregated_df.csv and run a linear regression on it\n",
    "import pandas as pd\n",
    "import numpy as np\n",
    "import matplotlib.pyplot as plt\n",
    "import seaborn as sns\n",
    "import statsmodels.api as sm"
   ]
  },
  {
   "cell_type": "code",
   "execution_count": 2,
   "metadata": {},
   "outputs": [
    {
     "name": "stdout",
     "output_type": "stream",
     "text": [
      "Index(['Person ID', 'Drinks', 'Fastfood', 'Sports', 'Food 2h before sleep',\n",
      "       'Medication', 'Date created', 'Woke up by (smart) alarm',\n",
      "       'Woke up by external factors', 'Yesterday', 'Slept again after alarm',\n",
      "       'Smart alarm', 'Date', 'time_of_awakening', 'state_before_awakening',\n",
      "       'Number of Measurements', 'Average Heart Rate',\n",
      "       'Average Lowest Three obs', 'Average First Ten min',\n",
      "       'Average First Thirty min'],\n",
      "      dtype='object')\n"
     ]
    }
   ],
   "source": [
    "data = pd.read_csv('aggregated_df.csv')\n",
    "print(data.columns)"
   ]
  },
  {
   "cell_type": "code",
   "execution_count": 6,
   "metadata": {},
   "outputs": [
    {
     "data": {
      "text/plain": [
       "array([[1, 0, 1, 1, 0, 0, '2023-10-01T08:41:41.000Z', 1, 0, 0, 0, 0,\n",
       "        '2023-10-01', '05:14:00', 3.0, 13, 77.3076923076923,\n",
       "        63.333333333333336, 71.625, 76.9]], dtype=object)"
      ]
     },
     "execution_count": 6,
     "metadata": {},
     "output_type": "execute_result"
    }
   ],
   "source": [
    "np.asarray(data[:1])"
   ]
  },
  {
   "cell_type": "code",
   "execution_count": 7,
   "metadata": {},
   "outputs": [
    {
     "name": "stdout",
     "output_type": "stream",
     "text": [
      "                            OLS Regression Results                            \n",
      "==============================================================================\n",
      "Dep. Variable:     Average Heart Rate   R-squared:                       0.170\n",
      "Model:                            OLS   Adj. R-squared:                  0.072\n",
      "Method:                 Least Squares   F-statistic:                     1.733\n",
      "Date:                Mon, 27 Nov 2023   Prob (F-statistic):             0.0960\n",
      "Time:                        23:53:53   Log-Likelihood:                -304.72\n",
      "No. Observations:                  86   AIC:                             629.4\n",
      "Df Residuals:                      76   BIC:                             654.0\n",
      "Df Model:                           9                                         \n",
      "Covariance Type:            nonrobust                                         \n",
      "===============================================================================================\n",
      "                                  coef    std err          t      P>|t|      [0.025      0.975]\n",
      "-----------------------------------------------------------------------------------------------\n",
      "const                          73.3819      3.846     19.082      0.000      65.723      81.041\n",
      "Smart alarm                    -3.7757      2.111     -1.789      0.078      -7.980       0.429\n",
      "Drinks                         -7.2418      2.773     -2.611      0.011     -12.765      -1.718\n",
      "Fastfood                       -1.1957      2.714     -0.441      0.661      -6.600       4.209\n",
      "Sports                          1.6506      2.260      0.730      0.467      -2.850       6.152\n",
      "Food 2h before sleep            3.2663      2.386      1.369      0.175      -1.487       8.019\n",
      "Medication                     -3.6970      4.502     -0.821      0.414     -12.664       5.270\n",
      "Woke up by (smart) alarm        5.2511      3.694      1.422      0.159      -2.106      12.608\n",
      "Woke up by external factors     2.3787      3.980      0.598      0.552      -5.549      10.307\n",
      "Slept again after alarm        -3.0249      3.136     -0.964      0.338      -9.271       3.221\n",
      "==============================================================================\n",
      "Omnibus:                        1.119   Durbin-Watson:                   1.746\n",
      "Prob(Omnibus):                  0.572   Jarque-Bera (JB):                0.579\n",
      "Skew:                           0.084   Prob(JB):                        0.748\n",
      "Kurtosis:                       3.365   Cond. No.                         9.40\n",
      "==============================================================================\n",
      "\n",
      "Notes:\n",
      "[1] Standard Errors assume that the covariance matrix of the errors is correctly specified.\n"
     ]
    }
   ],
   "source": [
    "X = data[['Smart alarm', 'Drinks', 'Fastfood', 'Sports', 'Food 2h before sleep', \n",
    "          'Medication', 'Woke up by (smart) alarm', 'Woke up by external factors', 'Slept again after alarm', \n",
    "          #'time_of_awakening', 'state_before_awakening'\n",
    "          ]]\n",
    "y = data['Average Heart Rate']\n",
    "\n",
    "# Adding a constant to the model (for the intercept)\n",
    "X = sm.add_constant(X)\n",
    "\n",
    "# Fit the OLS model\n",
    "model = sm.OLS(y, X).fit()\n",
    "\n",
    "# View the summary of the model\n",
    "print(model.summary())\n"
   ]
  }
 ],
 "metadata": {
  "kernelspec": {
   "display_name": "Python 3",
   "language": "python",
   "name": "python3"
  },
  "language_info": {
   "codemirror_mode": {
    "name": "ipython",
    "version": 3
   },
   "file_extension": ".py",
   "mimetype": "text/x-python",
   "name": "python",
   "nbconvert_exporter": "python",
   "pygments_lexer": "ipython3",
   "version": "3.11.5"
  }
 },
 "nbformat": 4,
 "nbformat_minor": 2
}
