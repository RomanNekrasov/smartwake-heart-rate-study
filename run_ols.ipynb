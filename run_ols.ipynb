{
 "cells": [
  {
   "cell_type": "code",
   "execution_count": 1,
   "metadata": {},
   "outputs": [],
   "source": [
    "# Lets read in aggregated_df.csv and run a linear regression on it\n",
    "import pandas as pd\n",
    "import numpy as np\n",
    "import matplotlib.pyplot as plt\n",
    "import seaborn as sns\n",
    "import statsmodels.api as sm"
   ]
  },
  {
   "cell_type": "code",
   "execution_count": 4,
   "metadata": {},
   "outputs": [
    {
     "name": "stdout",
     "output_type": "stream",
     "text": [
      "Index(['Person ID', 'Drinks', 'Fastfood', 'Sports', 'Food 23 before sleep',\n",
      "       'Medication', 'Date created', 'Woke up by (smart) alarm',\n",
      "       'Woke up by external factors', 'Yesterday', 'Slept again after alarm',\n",
      "       'Smart alarm', 'Date', 'time_of_awakening', 'state_before_awakening',\n",
      "       'Number of Measurements', 'Average Heart Rate',\n",
      "       'Average Lowest Three obs', 'Average First Ten min',\n",
      "       'Average First Thirty min'],\n",
      "      dtype='object')\n"
     ]
    }
   ],
   "source": [
    "data = pd.read_csv('data/aggregated_df.csv')\n",
    "print(data.columns)"
   ]
  },
  {
   "cell_type": "code",
   "execution_count": 5,
   "metadata": {},
   "outputs": [
    {
     "data": {
      "text/plain": [
       "array([[5, 0, 0, 0, 0, 1, '2023-10-01T20:37:08.000Z', 1, 0, 0, 0, 0,\n",
       "        '2023-10-01', '06:30:32', 3.0, 14, 57.0, 52.66666666666666,\n",
       "        53.75, 54.375]], dtype=object)"
      ]
     },
     "execution_count": 5,
     "metadata": {},
     "output_type": "execute_result"
    }
   ],
   "source": [
    "np.asarray(data[:1])"
   ]
  },
  {
   "cell_type": "code",
   "execution_count": 7,
   "metadata": {},
   "outputs": [
    {
     "name": "stdout",
     "output_type": "stream",
     "text": [
      "                            OLS Regression Results                            \n",
      "==============================================================================\n",
      "Dep. Variable:     Average Heart Rate   R-squared:                       0.207\n",
      "Model:                            OLS   Adj. R-squared:                  0.136\n",
      "Method:                 Least Squares   F-statistic:                     2.921\n",
      "Date:                Tue, 05 Dec 2023   Prob (F-statistic):            0.00406\n",
      "Time:                        22:16:57   Log-Likelihood:                -444.17\n",
      "No. Observations:                 111   AIC:                             908.3\n",
      "Df Residuals:                     101   BIC:                             935.4\n",
      "Df Model:                           9                                         \n",
      "Covariance Type:            nonrobust                                         \n",
      "===============================================================================================\n",
      "                                  coef    std err          t      P>|t|      [0.025      0.975]\n",
      "-----------------------------------------------------------------------------------------------\n",
      "const                          78.2007      4.897     15.971      0.000      68.487      87.914\n",
      "Smart alarm                    -3.2692      2.822     -1.158      0.249      -8.868       2.329\n",
      "Drinks                         -6.7821      3.853     -1.760      0.081     -14.426       0.861\n",
      "Fastfood                        1.4551      3.801      0.383      0.703      -6.086       8.996\n",
      "Sports                         -1.3714      3.098     -0.443      0.659      -7.517       4.775\n",
      "Food 23 before sleep            4.5670      3.271      1.396      0.166      -1.921      11.055\n",
      "Medication                     11.4605      3.183      3.600      0.000       5.146      17.775\n",
      "Woke up by (smart) alarm        2.4933      4.586      0.544      0.588      -6.604      11.591\n",
      "Woke up by external factors    -4.6664      5.196     -0.898      0.371     -14.974       5.641\n",
      "Slept again after alarm        -3.6767      4.246     -0.866      0.389     -12.100       4.747\n",
      "==============================================================================\n",
      "Omnibus:                        6.815   Durbin-Watson:                   1.576\n",
      "Prob(Omnibus):                  0.033   Jarque-Bera (JB):                6.388\n",
      "Skew:                           0.497   Prob(JB):                       0.0410\n",
      "Kurtosis:                       3.627   Cond. No.                         8.69\n",
      "==============================================================================\n",
      "\n",
      "Notes:\n",
      "[1] Standard Errors assume that the covariance matrix of the errors is correctly specified.\n"
     ]
    }
   ],
   "source": [
    "X = data[['Smart alarm', 'Drinks', 'Fastfood', 'Sports', 'Food 23 before sleep', \n",
    "          'Medication', 'Woke up by (smart) alarm', 'Woke up by external factors', 'Slept again after alarm', \n",
    "          #'time_of_awakening', 'state_before_awakening'\n",
    "          ]]\n",
    "y = data['Average Heart Rate']\n",
    "\n",
    "# Adding a constant to the model (for the intercept)\n",
    "X = sm.add_constant(X)\n",
    "\n",
    "# Fit the OLS model\n",
    "model = sm.OLS(y, X).fit()\n",
    "\n",
    "# View the summary of the model\n",
    "print(model.summary())\n"
   ]
  }
 ],
 "metadata": {
  "kernelspec": {
   "display_name": "Python 3",
   "language": "python",
   "name": "python3"
  },
  "language_info": {
   "codemirror_mode": {
    "name": "ipython",
    "version": 3
   },
   "file_extension": ".py",
   "mimetype": "text/x-python",
   "name": "python",
   "nbconvert_exporter": "python",
   "pygments_lexer": "ipython3",
   "version": "3.11.5"
  }
 },
 "nbformat": 4,
 "nbformat_minor": 2
}
