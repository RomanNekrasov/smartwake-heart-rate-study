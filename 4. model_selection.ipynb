{
 "cells": [
  {
   "cell_type": "markdown",
   "source": [
    "# Importing the data and dependencies"
   ],
   "metadata": {
    "collapsed": false
   }
  },
  {
   "cell_type": "code",
   "execution_count": 1,
   "metadata": {
    "ExecuteTime": {
     "end_time": "2024-01-08T14:23:41.722381Z",
     "start_time": "2024-01-08T14:23:41.098448Z"
    }
   },
   "outputs": [],
   "source": [
    "import pandas as pd\n",
    "import numpy as np\n",
    "import matplotlib.pyplot as plt\n",
    "import seaborn as sns\n",
    "import statsmodels.api as sm\n",
    "from statsmodels.formula.api import ols\n",
    "import statsmodels.formula.api as smf\n",
    "from statsmodels.iolib.summary2 import summary_col\n",
    "from statsmodels.stats.outliers_influence import variance_inflation_factor"
   ]
  },
  {
   "cell_type": "code",
   "execution_count": 2,
   "metadata": {
    "ExecuteTime": {
     "end_time": "2024-01-08T14:23:41.740945Z",
     "start_time": "2024-01-08T14:23:41.725494Z"
    }
   },
   "outputs": [
    {
     "name": "stdout",
     "output_type": "stream",
     "text": [
      "Index(['person_id', 'drinks', 'fastfood', 'sports', 'food_23_before_sleep',\n",
      "       'medication', 'date_created', 'woke_up_by_(smart)_alarm',\n",
      "       'woke_up_by_external_factors', 'slept_again_after_alarm', 'smart_alarm',\n",
      "       'date', 'time_of_awakening', 'state_before_awakening',\n",
      "       'number_of_measurements', 'average_heart_rate',\n",
      "       'average_lowest_three_obs', 'average_first_ten_min',\n",
      "       'average_first_thirty_min'],\n",
      "      dtype='object')\n"
     ]
    }
   ],
   "source": [
    "df = pd.read_csv('data/aggregated_df.csv')\n",
    "# Rename columns by replacing spaces with underscores\n",
    "df.columns = df.columns.str.replace(' ', '_').str.lower()\n",
    "print(df.columns)"
   ]
  },
  {
   "cell_type": "markdown",
   "source": [
    "# Train nested OLS models"
   ],
   "metadata": {
    "collapsed": false
   }
  },
  {
   "cell_type": "code",
   "execution_count": 3,
   "metadata": {
    "ExecuteTime": {
     "end_time": "2024-01-08T14:23:41.834246Z",
     "start_time": "2024-01-08T14:23:41.747740Z"
    }
   },
   "outputs": [
    {
     "name": "stdout",
     "output_type": "stream",
     "text": [
      "                                               Model         AIC         BIC  \\\n",
      "0                                        smart_alarm  917.456633  922.875694   \n",
      "1                           smart_alarm + medication  903.345291  911.473881   \n",
      "2                  smart_alarm + medication + drinks  902.906215  913.744336   \n",
      "3  smart_alarm + medication + drinks + food_23_be...  903.898031  917.445682   \n",
      "4  smart_alarm + medication + drinks + food_23_be...  905.733619  921.990801   \n",
      "5  smart_alarm + medication + drinks + food_23_be...  907.696555  926.663266   \n",
      "\n",
      "   R-squared  Adj. R-squared  Intercept  smart_alarm medication    drinks  \\\n",
      "0   0.005023       -0.004106  80.505800    -2.119973                        \n",
      "1   0.139449        0.123513  77.601451    -2.365530   12.86212             \n",
      "2   0.158152        0.134549  78.845511    -2.960226  12.536699 -5.582759   \n",
      "3   0.165764        0.134283  78.044972    -2.705553  12.627629 -6.566816   \n",
      "4   0.166999        0.127332  77.842043    -2.656851  12.683125 -6.733893   \n",
      "5   0.167277        0.119235  78.088113    -2.808632    12.6238 -6.834087   \n",
      "\n",
      "  food_23_before_sleep  fastfood    sports  \n",
      "0                                           \n",
      "1                                           \n",
      "2                                           \n",
      "3             3.057657                      \n",
      "4             2.944438  1.476461            \n",
      "5             3.061411  1.478095 -0.573361  \n"
     ]
    }
   ],
   "source": [
    "# Function to add model results to a list\n",
    "def add_model_to_results(data, predictors, outcome, results_list, models):\n",
    "    formula = \"{} ~ {}\".format(outcome, ' + '.join(predictors))\n",
    "    model = smf.ols(formula, data=data).fit()\n",
    "    models.append(model)\n",
    "    model_summary = {\n",
    "        'Model': ' + '.join(predictors),\n",
    "        'AIC': model.aic,\n",
    "        'BIC': model.bic,\n",
    "        'R-squared': model.rsquared,\n",
    "        'Adj. R-squared': model.rsquared_adj,\n",
    "        'Coefficients': model.params.to_dict()\n",
    "    }\n",
    "    results_list.append(model_summary)\n",
    "\n",
    "# Function to add predictors based on correlation\n",
    "def add_predictors_by_correlation(df, predictors, outcome, models):\n",
    "    correlation_with_outcome = df[predictors].corrwith(df[outcome]).abs().sort_values(ascending=False)\n",
    "    included = ['smart_alarm']  # Start with smart_alarm as the base model\n",
    "    results_list = []\n",
    "    add_model_to_results(df, included, outcome, results_list, models)\n",
    "    for predictor in correlation_with_outcome.index:\n",
    "        if predictor != 'smart_alarm':  # Avoid re-adding smart_alarm\n",
    "            included.append(predictor)\n",
    "            add_model_to_results(df, included, outcome, results_list, models)\n",
    "    return included, results_list\n",
    "\n",
    "# Define your predictors and outcome variable\n",
    "predictors = ['smart_alarm', 'drinks', 'fastfood', 'sports', 'food_23_before_sleep', 'medication']\n",
    "outcome_variable = 'average_heart_rate'\n",
    "\n",
    "models = []\n",
    "# Run the function\n",
    "selected_predictors, model_summaries = add_predictors_by_correlation(df, predictors, outcome_variable, models)\n",
    "\n",
    "# Creating DataFrame from the list of model summaries\n",
    "model_results_df = pd.DataFrame(model_summaries)\n",
    "\n",
    "# Extracting coefficients into a DataFrame and formatting\n",
    "coefficients = model_results_df['Coefficients'].apply(pd.Series)\n",
    "coefficients = coefficients.fillna('')  # Replace NaN with empty strings for readability\n",
    "\n",
    "# Concatenate the coefficients to the readable DataFrame\n",
    "model_results_df = pd.concat([model_results_df, coefficients], axis=1).drop('Coefficients', axis=1)\n",
    "\n",
    "# Display the formatted DataFrame\n",
    "print(model_results_df)"
   ]
  },
  {
   "cell_type": "markdown",
   "source": [
    "# Presenting the results"
   ],
   "metadata": {
    "collapsed": false
   }
  },
  {
   "cell_type": "code",
   "outputs": [
    {
     "name": "stdout",
     "output_type": "stream",
     "text": [
      "\\begin{table}\n",
      "\\caption{}\n",
      "\\label{}\n",
      "\\begin{center}\n",
      "\\begin{tabular}{lllllll}\n",
      "\\hline\n",
      "                        & Model 1   & Model 2   & Model 3   & Model 4   & Model 5   & Model 6    \\\\\n",
      "\\hline\n",
      "Intercept               & 80.506*** & 77.601*** & 78.846*** & 78.045*** & 77.842*** & 78.088***  \\\\\n",
      "                        & (1.899)   & (1.910)   & (2.062)   & (2.217)   & (2.285)   & (2.648)    \\\\\n",
      "smart\\_alarm            & -2.120    & -2.366    & -2.960    & -2.706    & -2.657    & -2.809     \\\\\n",
      "                        & (2.858)   & (2.671)   & (2.682)   & (2.695)   & (2.708)   & (2.840)    \\\\\n",
      "medication              &           & 12.862*** & 12.537*** & 12.628*** & 12.683*** & 12.624***  \\\\\n",
      "                        &           & (3.131)   & (3.119)   & (3.121)   & (3.136)   & (3.167)    \\\\\n",
      "drinks                  &           &           & -5.583    & -6.567*   & -6.734*   & -6.834*    \\\\\n",
      "                        &           &           & (3.621)   & (3.757)   & (3.796)   & (3.851)    \\\\\n",
      "food\\_23\\_before\\_sleep &           &           &           & 3.058     & 2.944     & 3.061      \\\\\n",
      "                        &           &           &           & (3.109)   & (3.135)   & (3.211)    \\\\\n",
      "fastfood                &           &           &           &           & 1.476     & 1.478      \\\\\n",
      "                        &           &           &           &           & (3.742)   & (3.760)    \\\\\n",
      "sports                  &           &           &           &           &           & -0.573     \\\\\n",
      "                        &           &           &           &           &           & (3.076)    \\\\\n",
      "R-squared               & 0.005     & 0.139     & 0.158     & 0.166     & 0.167     & 0.167      \\\\\n",
      "R-squared Adj.          & -0.004    & 0.124     & 0.135     & 0.134     & 0.127     & 0.119      \\\\\n",
      "R-squared               & 0.01      & 0.14      & 0.16      & 0.17      & 0.17      & 0.17       \\\\\n",
      "Adj. R-squared          & -0.00     & 0.12      & 0.13      & 0.13      & 0.13      & 0.12       \\\\\n",
      "AIC                     & 917       & 903       & 903       & 904       & 906       & 908        \\\\\n",
      "BIC                     & 923       & 911       & 914       & 917       & 922       & 927        \\\\\n",
      "\\hline\n",
      "\\end{tabular}\n",
      "\\end{center}\n",
      "\\end{table}\n",
      "\\bigskip\n",
      "Standard errors in parentheses. \\newline \n",
      "* p<.1, ** p<.05, ***p<.01\n"
     ]
    }
   ],
   "source": [
    "# Combining the model summaries into one table\n",
    "summary_table = summary_col(models, \n",
    "                                    stars=True, \n",
    "                                    model_names=['Model 1', 'Model 2', 'Model 3', 'Model 4', 'Model 5', 'Model 6'],\n",
    "                                    info_dict={'R-squared': lambda x: f\"{x.rsquared:.2f}\",\n",
    "                                               'Adj. R-squared': lambda x: f\"{x.rsquared_adj:.2f}\",\n",
    "                                               'AIC': lambda x: f\"{x.aic:.0f}\",\n",
    "                                               'BIC': lambda x: f\"{x.bic:.0f}\"},\n",
    "                                    float_format=\"%0.3f\")\n",
    "\n",
    "# Generating the combined summary table in LaTeX format\n",
    "summary_table_latex = summary_table.as_latex()\n",
    "print(summary_table_latex)"
   ],
   "metadata": {
    "collapsed": false,
    "ExecuteTime": {
     "end_time": "2024-01-08T14:23:41.952057Z",
     "start_time": "2024-01-08T14:23:41.838144Z"
    }
   },
   "execution_count": 4
  },
  {
   "cell_type": "code",
   "outputs": [
    {
     "name": "stdout",
     "output_type": "stream",
     "text": [
      "                            OLS Regression Results                            \n",
      "==============================================================================\n",
      "Dep. Variable:     average_heart_rate   R-squared:                       0.166\n",
      "Model:                            OLS   Adj. R-squared:                  0.134\n",
      "Method:                 Least Squares   F-statistic:                     5.266\n",
      "Date:                Mon, 08 Jan 2024   Prob (F-statistic):           0.000659\n",
      "Time:                        15:23:41   Log-Likelihood:                -446.95\n",
      "No. Observations:                 111   AIC:                             903.9\n",
      "Df Residuals:                     106   BIC:                             917.4\n",
      "Df Model:                           4                                         \n",
      "Covariance Type:            nonrobust                                         \n",
      "========================================================================================\n",
      "                           coef    std err          t      P>|t|      [0.025      0.975]\n",
      "----------------------------------------------------------------------------------------\n",
      "Intercept               78.0450      2.217     35.198      0.000      73.649      82.441\n",
      "smart_alarm             -2.7056      2.695     -1.004      0.318      -8.048       2.637\n",
      "medication              12.6276      3.121      4.046      0.000       6.441      18.815\n",
      "drinks                  -6.5668      3.757     -1.748      0.083     -14.016       0.882\n",
      "food_23_before_sleep     3.0577      3.109      0.983      0.328      -3.107       9.222\n",
      "==============================================================================\n",
      "Omnibus:                        6.679   Durbin-Watson:                   1.557\n",
      "Prob(Omnibus):                  0.035   Jarque-Bera (JB):                6.153\n",
      "Skew:                           0.524   Prob(JB):                       0.0461\n",
      "Kurtosis:                       3.481   Cond. No.                         3.60\n",
      "==============================================================================\n",
      "\n",
      "Notes:\n",
      "[1] Standard Errors assume that the covariance matrix of the errors is correctly specified.\n"
     ]
    }
   ],
   "source": [
    "print(models[3].summary())"
   ],
   "metadata": {
    "collapsed": false,
    "ExecuteTime": {
     "end_time": "2024-01-08T14:23:41.964384Z",
     "start_time": "2024-01-08T14:23:41.952695Z"
    }
   },
   "execution_count": 5
  },
  {
   "cell_type": "code",
   "outputs": [
    {
     "data": {
      "text/plain": "<Figure size 500x600 with 1 Axes>",
      "image/png": "[encoded data removed]"
     },
     "metadata": {},
     "output_type": "display_data"
    }
   ],
   "source": [
    "# Custom function with options to reorder variables and change display names\n",
    "def plot_model_summary_custom(model, variable_order=None, name_mapping=None, significance_level=0.10, figsize=(5, 6)):\n",
    "    \"\"\"\n",
    "    Plots the coefficients and confidence intervals of a regression model.\n",
    "    Allows reordering of variables and changing of display names.\n",
    "    Highlights significant predictors at the specified significance level.\n",
    "    \"\"\"\n",
    "    # Extracting coefficients, confidence intervals, p-values, and variable names\n",
    "    coefficients = model.params.drop('Intercept')\n",
    "    confidence_intervals = model.conf_int().loc[coefficients.index]\n",
    "    p_values = model.pvalues.drop('Intercept')\n",
    "\n",
    "    # Reordering variables if specified\n",
    "    if variable_order:\n",
    "        coefficients = coefficients.loc[variable_order]\n",
    "        confidence_intervals = confidence_intervals.loc[variable_order]\n",
    "        p_values = p_values.loc[variable_order]\n",
    "\n",
    "    # Changing variable display names if specified\n",
    "    variables = coefficients.index\n",
    "    if name_mapping:\n",
    "        variables = [name_mapping.get(var, var) for var in variables]\n",
    "\n",
    "    # Plot\n",
    "    plt.figure(figsize=figsize)\n",
    "    for i, var in enumerate(variables):\n",
    "        original_var = coefficients.index[i]\n",
    "        color = 'red' if p_values[original_var] < significance_level else 'black'\n",
    "        plt.errorbar(x=coefficients[original_var], y=i, \n",
    "                     xerr=[[coefficients[original_var] - confidence_intervals.loc[original_var][0]], \n",
    "                           [confidence_intervals.loc[original_var][1] - coefficients[original_var]]], \n",
    "                     fmt='o', color=color, ecolor='lightgray', elinewidth=3, capsize=0)\n",
    "    plt.axvline(x=0, color='black', linewidth=0.8)\n",
    "    plt.yticks(ticks=np.arange(len(variables)), labels=variables)\n",
    "    plt.title('Coefficients and Confidence Intervals (Significant at 0.10 in Red)')\n",
    "    plt.xlabel('Coefficient Value')\n",
    "    plt.ylabel('Variables')\n",
    "    plt.figtext(0.5, -0.02, \"Intercept (baseline level) = 78.045\", ha=\"center\", fontsize=10, color=\"gray\", fontstyle='italic')\n",
    "    plt.grid(True)\n",
    "    plt.show()\n",
    "\n",
    "variable_order = [\n",
    "    \"food_23_before_sleep\",\n",
    "    \"drinks\",\n",
    "    \"medication\",\n",
    "    \"smart_alarm\"\n",
    "]\n",
    "\n",
    "name_mapping = {\n",
    "    \"food_23_before_sleep\": \"Food 2h Before Sleep\",\n",
    "    \"drinks\": \"Drinks\",\n",
    "    \"medication\": \"Medication\",\n",
    "    \"smart_alarm\": \"Smart Alarm\"\n",
    "}\n",
    "\n",
    "# Plotting with the custom settings\n",
    "plot_model_summary_custom(models[3], variable_order=variable_order, name_mapping=name_mapping)"
   ],
   "metadata": {
    "collapsed": false,
    "ExecuteTime": {
     "end_time": "2024-01-08T14:23:42.262773Z",
     "start_time": "2024-01-08T14:23:41.976072Z"
    }
   },
   "execution_count": 6
  },
  {
   "cell_type": "markdown",
   "source": [
    "# Validating the assumptions"
   ],
   "metadata": {
    "collapsed": false
   }
  },
  {
   "cell_type": "code",
   "outputs": [],
   "source": [
    "model = models[3]\n",
    "X = df[variable_order]"
   ],
   "metadata": {
    "collapsed": false,
    "ExecuteTime": {
     "end_time": "2024-01-08T14:23:42.264723Z",
     "start_time": "2024-01-08T14:23:42.254751Z"
    }
   },
   "execution_count": 7
  },
  {
   "cell_type": "code",
   "outputs": [
    {
     "ename": "NameError",
     "evalue": "name 'y' is not defined",
     "output_type": "error",
     "traceback": [
      "\u001B[0;31m---------------------------------------------------------------------------\u001B[0m",
      "\u001B[0;31mNameError\u001B[0m                                 Traceback (most recent call last)",
      "Cell \u001B[0;32mIn[8], line 4\u001B[0m\n\u001B[1;32m      1\u001B[0m fig, axs \u001B[38;5;241m=\u001B[39m plt\u001B[38;5;241m.\u001B[39msubplots(\u001B[38;5;241m2\u001B[39m, \u001B[38;5;241m2\u001B[39m, figsize\u001B[38;5;241m=\u001B[39m(\u001B[38;5;241m10\u001B[39m, \u001B[38;5;241m10\u001B[39m))\n\u001B[1;32m      3\u001B[0m \u001B[38;5;66;03m# Assumption 1: Linearity - Observed vs Predicted Values\u001B[39;00m\n\u001B[0;32m----> 4\u001B[0m sns\u001B[38;5;241m.\u001B[39mscatterplot(x\u001B[38;5;241m=\u001B[39m\u001B[43my\u001B[49m, y\u001B[38;5;241m=\u001B[39mmodel\u001B[38;5;241m.\u001B[39mpredict(X), ax\u001B[38;5;241m=\u001B[39maxs[\u001B[38;5;241m0\u001B[39m, \u001B[38;5;241m0\u001B[39m])\n\u001B[1;32m      5\u001B[0m axs[\u001B[38;5;241m0\u001B[39m, \u001B[38;5;241m0\u001B[39m]\u001B[38;5;241m.\u001B[39mplot([\u001B[38;5;28mmin\u001B[39m(y), \u001B[38;5;28mmax\u001B[39m(y)], [\u001B[38;5;28mmin\u001B[39m(y), \u001B[38;5;28mmax\u001B[39m(y)], color\u001B[38;5;241m=\u001B[39m\u001B[38;5;124m'\u001B[39m\u001B[38;5;124mred\u001B[39m\u001B[38;5;124m'\u001B[39m, lw\u001B[38;5;241m=\u001B[39m\u001B[38;5;241m2\u001B[39m, linestyle\u001B[38;5;241m=\u001B[39m\u001B[38;5;124m'\u001B[39m\u001B[38;5;124m--\u001B[39m\u001B[38;5;124m'\u001B[39m)\n\u001B[1;32m      6\u001B[0m axs[\u001B[38;5;241m0\u001B[39m, \u001B[38;5;241m0\u001B[39m]\u001B[38;5;241m.\u001B[39mset_xlabel(\u001B[38;5;124m\"\u001B[39m\u001B[38;5;124mObserved Values\u001B[39m\u001B[38;5;124m\"\u001B[39m)\n",
      "\u001B[0;31mNameError\u001B[0m: name 'y' is not defined"
     ]
    },
    {
     "data": {
      "text/plain": "<Figure size 1000x1000 with 4 Axes>",
      "image/png": "[encoded data removed]"
     },
     "metadata": {},
     "output_type": "display_data"
    }
   ],
   "source": [
    "fig, axs = plt.subplots(2, 2, figsize=(10, 10))\n",
    "\n",
    "# Assumption 1: Linearity - Observed vs Predicted Values\n",
    "sns.scatterplot(x=y, y=model.predict(X), ax=axs[0, 0])\n",
    "axs[0, 0].plot([min(y), max(y)], [min(y), max(y)], color='red', lw=2, linestyle='--')\n",
    "axs[0, 0].set_xlabel(\"Observed Values\")\n",
    "axs[0, 0].set_ylabel(\"Predicted Values\")\n",
    "axs[0, 0].set_title(\"Observed vs. Predicted Values\")\n",
    "\n",
    "# Assumption 3: Homoscedasticity - Residuals vs Fitted values\n",
    "sns.residplot(x=model.predict(X), y=model.resid, lowess=True, line_kws={'color': 'red'}, ax=axs[0, 1])\n",
    "axs[0, 1].set_xlabel(\"Fitted Values\")\n",
    "axs[0, 1].set_ylabel(\"Residuals\")\n",
    "axs[0, 1].set_title(\"Residuals vs. Fitted\")\n",
    "\n",
    "# Assumption 4: Normal Distribution of Errors - Q-Q plot\n",
    "sm.qqplot(model.resid, line='s', ax=axs[1, 0])\n",
    "axs[1, 0].set_title(\"Normal Q-Q plot of Residuals\")\n",
    "\n",
    "# Assumption 7: No Influential Outliers - Cook's Distance\n",
    "(c, p) = model.get_influence().cooks_distance\n",
    "axs[1, 1].stem(np.arange(len(c)), c, markerfmt=\",\")\n",
    "axs[1, 1].set_title(\"Cook's Distance\")\n",
    "axs[1, 1].set_xlabel(\"Observation Index\")\n",
    "axs[1, 1].set_ylabel(\"Cook's Distance\")\n",
    "\n",
    "plt.tight_layout()\n",
    "plt.show()\n"
   ],
   "metadata": {
    "collapsed": false,
    "ExecuteTime": {
     "end_time": "2024-01-08T14:23:43.532880Z",
     "start_time": "2024-01-08T14:23:42.262720Z"
    }
   },
   "execution_count": 8
  },
  {
   "cell_type": "code",
   "outputs": [],
   "source": [
    "# Assumption 2: Independence of Errors (Durbin-Watson Test)\n",
    "# Values of 1.5 to 2.5 are generally considered acceptable\n",
    "print('Durbin-Watson:', sm.stats.durbin_watson(model.resid))\n",
    "\n",
    "\n",
    "# Assumption 5: No Multicollinearity\n",
    "# Variance Inflation Factor (VIF) calculation\n",
    "vif_data = pd.DataFrame()\n",
    "vif_data[\"feature\"] = X.columns\n",
    "vif_data[\"VIF\"] = [variance_inflation_factor(X.values, i) for i in range(len(X.columns))]\n",
    "print(vif_data.to_latex(index=False))"
   ],
   "metadata": {
    "collapsed": false,
    "ExecuteTime": {
     "end_time": "2024-01-08T14:23:43.547870Z",
     "start_time": "2024-01-08T14:23:43.536283Z"
    }
   },
   "execution_count": null
  },
  {
   "cell_type": "markdown",
   "source": [
    "# Robustness Check performing ols with stepwise selection"
   ],
   "metadata": {
    "collapsed": false
   }
  },
  {
   "cell_type": "code",
   "execution_count": null,
   "metadata": {
    "ExecuteTime": {
     "start_time": "2024-01-08T14:23:43.541117Z"
    }
   },
   "outputs": [],
   "source": [
    "def add_model_to_results(data, predictors, outcome, results_list):\n",
    "    formula = \"{} ~ {}\".format(outcome, ' + '.join(predictors))\n",
    "    model = smf.ols(formula, data=data).fit()\n",
    "    model_summary = {\n",
    "        'Model': ' + '.join(predictors),\n",
    "        'AIC': model.aic,\n",
    "        'BIC': model.bic,\n",
    "        'R-squared': model.rsquared,\n",
    "        'Adj. R-squared': model.rsquared_adj,\n",
    "        'Coefficients': model.params.to_dict()\n",
    "    }\n",
    "    results_list.append(model_summary)\n",
    "\n",
    "def stepwise_selection(X, y, initial_list=[], threshold_in=0.05, threshold_out=0.1):\n",
    "    included = list(initial_list)\n",
    "    results_list = []  # List to store model summaries\n",
    "    while True:\n",
    "        changed = False\n",
    "        # Forward step\n",
    "        excluded = list(set(X.columns) - set(included))\n",
    "        new_pval = pd.Series(index=excluded)\n",
    "        for new_column in excluded:\n",
    "            formula = \"{} ~ {}\".format(y, ' + '.join(included + [new_column]))\n",
    "            model = ols(formula, data=df).fit()\n",
    "            new_pval[new_column] = model.pvalues[new_column]\n",
    "        best_pval = new_pval.min()\n",
    "        if best_pval < threshold_in:\n",
    "            best_feature = new_pval.idxmin()\n",
    "            included.append(best_feature)\n",
    "            changed = True\n",
    "            add_model_to_results(df, included, y, results_list)\n",
    "        \n",
    "        \n",
    "        # Backward step\n",
    "        model = ols(\"{} ~ {}\".format(y, ' + '.join(included)), data=df).fit()\n",
    "        pvalues = model.pvalues.iloc[1:]\n",
    "        worst_pval = pvalues.max()\n",
    "        if worst_pval > threshold_out:\n",
    "            worst_feature = pvalues.idxmax()\n",
    "            included.remove(worst_feature)\n",
    "            changed = True\n",
    "            add_model_to_results(df, included, y, results_list)\n",
    "        \n",
    "        if not changed:\n",
    "            break\n",
    "    return included, results_list"
   ]
  },
  {
   "cell_type": "code",
   "execution_count": null,
   "metadata": {
    "ExecuteTime": {
     "start_time": "2024-01-08T14:23:43.545831Z"
    }
   },
   "outputs": [],
   "source": [
    "# Running the stepwise selection\n",
    "predictors = ['smart_alarm', 'drinks', 'fastfood', 'sports', 'food_23_before_sleep', 'medication']\n",
    "outcome_variable = 'average_heart_rate'\n",
    "\n",
    "selected_predictors, model_summaries = stepwise_selection(df[predictors], outcome_variable)\n",
    "\n",
    "# Creating DataFrame from the list of model summaries\n",
    "model_results_df = pd.DataFrame(model_summaries)\n",
    "\n",
    "# Print the results\n",
    "print(model_results_df)"
   ]
  }
 ],
 "metadata": {
  "kernelspec": {
   "display_name": "Python 3",
   "language": "python",
   "name": "python3"
  },
  "language_info": {
   "codemirror_mode": {
    "name": "ipython",
    "version": 3
   },
   "file_extension": ".py",
   "mimetype": "text/x-python",
   "name": "python",
   "nbconvert_exporter": "python",
   "pygments_lexer": "ipython3",
   "version": "3.11.7"
  }
 },
 "nbformat": 4,
 "nbformat_minor": 2
}
