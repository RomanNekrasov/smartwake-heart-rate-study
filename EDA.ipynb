{
 "cells": [
  {
   "cell_type": "markdown",
   "metadata": {},
   "source": [
    "## Imports"
   ]
  },
  {
   "cell_type": "code",
   "execution_count": 128,
   "metadata": {},
   "outputs": [],
   "source": [
    "import pandas as pd\n",
    "import os\n",
    "import matplotlib.pyplot as plt\n",
    "\n",
    "# for importing apple data \n",
    "import xml.etree.ElementTree as ET\n",
    "\n",
    "import functions\n",
    "from importlib import reload\n",
    "reload(functions)\n",
    "\n",
    "import warnings\n",
    "warnings.filterwarnings('ignore')"
   ]
  },
  {
   "cell_type": "markdown",
   "metadata": {},
   "source": [
    "## Preparing the data "
   ]
  },
  {
   "cell_type": "markdown",
   "metadata": {},
   "source": [
    "#### Load and filter Xiaomi data"
   ]
  },
  {
   "cell_type": "code",
   "execution_count": 129,
   "metadata": {},
   "outputs": [],
   "source": [
    "# order of people: Andy, Tom, Huub, Oumaima \n",
    "\n",
    "# Get data for each person\n",
    "person1 = pd.read_csv('data/20231030_8210796956_MiFitness_hlth_center_fitness_data.csv')\n",
    "person2 = pd.read_csv('data/20231030_8211531339_MiFitness_hlth_center_fitness_data.csv')\n",
    "person3 = pd.read_csv('data/20231031_8210564343_MiFitness_hlth_center_fitness_data.csv')\n",
    "person4 = pd.read_csv('data/20231110_8210586841_MiFitness_hlth_center_fitness_data.csv')"
   ]
  },
  {
   "cell_type": "code",
   "execution_count": 130,
   "metadata": {},
   "outputs": [],
   "source": [
    "# Identify each person before combining all data into one big dataframe \n",
    "person1['Person ID'] = 1\n",
    "person2['Person ID'] = 2\n",
    "person3['Person ID'] = 3\n",
    "person4['Person ID'] = 4\n",
    "\n",
    "master_frame = pd.concat([person1, person2, person3, person4], ignore_index=True)\n"
   ]
  },
  {
   "cell_type": "code",
   "execution_count": 131,
   "metadata": {},
   "outputs": [],
   "source": [
    "# Format all data from the keys to dataframes\n",
    "key_dataframes = functions.format_mi_band_data(master_frame)\n",
    "\n",
    "\n",
    "# relevant dataframes:\n",
    "x_heart_rate_df = key_dataframes['heart_rate']\n",
    "x_sleep_df = key_dataframes['watch_night_sleep']"
   ]
  },
  {
   "cell_type": "code",
   "execution_count": 132,
   "metadata": {},
   "outputs": [],
   "source": [
    "# Get the data within our study time period\n",
    "\n",
    "# 1696118399 = Saturday 30 September 2023 23:59:59 dit is de nacht voor de 1e keer dat we ontwaken\n",
    "# 1697371200 = Sunday 15 October 2023 12:00:00 dit is de laatste keer dat we met een normale wekker (of smart wake voor tom) wakker worden\n",
    "# 1698537599 = Saturday 28 October 2023 23:59:59 dit is de laatste dag dat we wakker worden\n",
    "\n",
    "start_time = 1696118399\n",
    "end_time = 1698537599\n",
    "\n",
    "filtered_heart_rate_df = x_heart_rate_df[(x_heart_rate_df['Time'] >= start_time) & (x_heart_rate_df['Time'] <= end_time)]\n",
    "filtered_watch_night_sleep_df = x_sleep_df[(x_sleep_df['Time'] >= start_time) & (x_sleep_df['Time'] <= end_time)]"
   ]
  },
  {
   "cell_type": "markdown",
   "metadata": {},
   "source": [
    "#### Load and filter Apple data"
   ]
  },
  {
   "cell_type": "code",
   "execution_count": 133,
   "metadata": {},
   "outputs": [],
   "source": [
    "# Load and parse the XML file\n",
    "current_path = os.getcwd()\n",
    "tree = ET.parse(current_path + '/data/export.xml')  \n",
    "root = tree.getroot()\n",
    "\n",
    "# Extract data into a list of dictionaries\n",
    "data = []\n",
    "for record in root.findall('Record'):\n",
    "    record_data = record.attrib  # Extract attributes of the Record tag\n",
    "    for metadata in record.findall('MetadataEntry'):\n",
    "        record_data[metadata.get('key')] = metadata.get('value')\n",
    "    data.append(record_data)\n",
    "\n",
    "# Convert the list of dictionaries into a DataFrame\n",
    "apple_df = pd.DataFrame(data)"
   ]
  },
  {
   "cell_type": "code",
   "execution_count": 134,
   "metadata": {},
   "outputs": [],
   "source": [
    "apple_df['type'] = apple_df['type'].str.replace('HKQuantityTypeIdentifier', '')\n",
    "apple_df['type'] = apple_df['type'].str.replace('HKCategoryTypeIdentifier', '')\n",
    "\n",
    "# Filter for SleepAnalysis and HeartRate - relevant for our study\n",
    "apple_df_filtered = apple_df[apple_df['type'].isin(['SleepAnalysis', 'HeartRate'])]"
   ]
  },
  {
   "cell_type": "code",
   "execution_count": 135,
   "metadata": {},
   "outputs": [],
   "source": [
    "apple_df['creationDate'] = pd.to_datetime(apple_df['creationDate'])\n",
    "apple_df['startDate'] = pd.to_datetime(apple_df['startDate'])\n",
    "apple_df['endDate'] = pd.to_datetime(apple_df['endDate'])\n",
    "\n",
    "# Filter for the time period\n",
    "start_date = '2023-09-30'\n",
    "end_date = '2023-10-28'\n",
    "apple_df_filtered = apple_df_filtered[(apple_df_filtered['creationDate'] >= start_date) & (apple_df_filtered['creationDate'] <= end_date)]"
   ]
  },
  {
   "cell_type": "markdown",
   "metadata": {},
   "source": [
    "##### Get apple heart rate dataframe"
   ]
  },
  {
   "cell_type": "code",
   "execution_count": 136,
   "metadata": {},
   "outputs": [
    {
     "data": {
      "text/html": [
       "<div>\n",
       "<style scoped>\n",
       "    .dataframe tbody tr th:only-of-type {\n",
       "        vertical-align: middle;\n",
       "    }\n",
       "\n",
       "    .dataframe tbody tr th {\n",
       "        vertical-align: top;\n",
       "    }\n",
       "\n",
       "    .dataframe thead th {\n",
       "        text-align: right;\n",
       "    }\n",
       "</style>\n",
       "<table border=\"1\" class=\"dataframe\">\n",
       "  <thead>\n",
       "    <tr style=\"text-align: right;\">\n",
       "      <th></th>\n",
       "      <th>creationDate</th>\n",
       "      <th>startDate</th>\n",
       "      <th>endDate</th>\n",
       "      <th>value</th>\n",
       "    </tr>\n",
       "  </thead>\n",
       "  <tbody>\n",
       "    <tr>\n",
       "      <th>121528</th>\n",
       "      <td>2023-09-30 00:00:46 +0100</td>\n",
       "      <td>2023-09-29 23:49:49 +0100</td>\n",
       "      <td>2023-09-29 23:49:49 +0100</td>\n",
       "      <td>72</td>\n",
       "    </tr>\n",
       "    <tr>\n",
       "      <th>121529</th>\n",
       "      <td>2023-09-30 00:00:46 +0100</td>\n",
       "      <td>2023-09-29 23:54:35 +0100</td>\n",
       "      <td>2023-09-29 23:54:35 +0100</td>\n",
       "      <td>69</td>\n",
       "    </tr>\n",
       "    <tr>\n",
       "      <th>121530</th>\n",
       "      <td>2023-09-30 00:12:15 +0100</td>\n",
       "      <td>2023-09-29 23:59:35 +0100</td>\n",
       "      <td>2023-09-29 23:59:35 +0100</td>\n",
       "      <td>70</td>\n",
       "    </tr>\n",
       "    <tr>\n",
       "      <th>121531</th>\n",
       "      <td>2023-09-30 00:12:15 +0100</td>\n",
       "      <td>2023-09-30 00:04:34 +0100</td>\n",
       "      <td>2023-09-30 00:04:34 +0100</td>\n",
       "      <td>70</td>\n",
       "    </tr>\n",
       "    <tr>\n",
       "      <th>121532</th>\n",
       "      <td>2023-09-30 00:14:57 +0100</td>\n",
       "      <td>2023-09-30 00:09:45 +0100</td>\n",
       "      <td>2023-09-30 00:09:45 +0100</td>\n",
       "      <td>69</td>\n",
       "    </tr>\n",
       "  </tbody>\n",
       "</table>\n",
       "</div>"
      ],
      "text/plain": [
       "                     creationDate                  startDate  \\\n",
       "121528  2023-09-30 00:00:46 +0100  2023-09-29 23:49:49 +0100   \n",
       "121529  2023-09-30 00:00:46 +0100  2023-09-29 23:54:35 +0100   \n",
       "121530  2023-09-30 00:12:15 +0100  2023-09-29 23:59:35 +0100   \n",
       "121531  2023-09-30 00:12:15 +0100  2023-09-30 00:04:34 +0100   \n",
       "121532  2023-09-30 00:14:57 +0100  2023-09-30 00:09:45 +0100   \n",
       "\n",
       "                          endDate value  \n",
       "121528  2023-09-29 23:49:49 +0100    72  \n",
       "121529  2023-09-29 23:54:35 +0100    69  \n",
       "121530  2023-09-29 23:59:35 +0100    70  \n",
       "121531  2023-09-30 00:04:34 +0100    70  \n",
       "121532  2023-09-30 00:09:45 +0100    69  "
      ]
     },
     "execution_count": 136,
     "metadata": {},
     "output_type": "execute_result"
    }
   ],
   "source": [
    "a_heart_rate_df = apple_df_filtered[apple_df_filtered['type'] == 'HeartRate']\n",
    "a_heart_rate_df = a_heart_rate_df[['creationDate', 'startDate', 'endDate', 'value']]\n",
    "a_heart_rate_df.head()"
   ]
  },
  {
   "cell_type": "markdown",
   "metadata": {},
   "source": [
    "##### Get Apple sleep dataframe"
   ]
  },
  {
   "cell_type": "code",
   "execution_count": 137,
   "metadata": {},
   "outputs": [],
   "source": [
    "a_sleep_df = apple_df_filtered[apple_df_filtered['type'] == 'SleepAnalysis']\n",
    "# a_sleep_df.head()"
   ]
  },
  {
   "cell_type": "code",
   "execution_count": 138,
   "metadata": {},
   "outputs": [],
   "source": [
    "# Convert startDate, endDate, and creationDate to datetime if not already done\n",
    "a_sleep_df['startDate'] = pd.to_datetime(a_sleep_df['startDate'])\n",
    "a_sleep_df['endDate'] = pd.to_datetime(a_sleep_df['endDate'])\n",
    "a_sleep_df['creationDate'] = pd.to_datetime(a_sleep_df['creationDate'])\n",
    "\n",
    "# Filter out 'HKCategoryValueSleepAnalysisInBed'\n",
    "a_sleep_df = a_sleep_df[a_sleep_df['value'] != 'HKCategoryValueSleepAnalysisInBed']\n",
    "\n",
    "# Define a function to categorize sleep states\n",
    "def categorize_sleep_state(value):\n",
    "    if 'Deep' in value:\n",
    "        return 4\n",
    "    elif 'REM' in value:\n",
    "        return 2\n",
    "    elif 'Core' in value:  # Assuming 'Core' is light sleep\n",
    "        return 3\n",
    "    elif 'Awake' in value:\n",
    "        return 1\n",
    "    else:\n",
    "        return 'unknown'\n",
    "\n",
    "# Categorize each record\n",
    "a_sleep_df['sleep_state'] = a_sleep_df['value'].apply(categorize_sleep_state)\n",
    "\n",
    "# Calculate the duration for each record in minutes\n",
    "a_sleep_df['duration'] = (a_sleep_df['endDate'] - a_sleep_df['startDate']).dt.total_seconds() / 60"
   ]
  },
  {
   "cell_type": "code",
   "execution_count": 139,
   "metadata": {},
   "outputs": [],
   "source": [
    "aggregated_data = []\n",
    "\n",
    "# Process each day's data\n",
    "for creation_date, day_data in a_sleep_df.groupby('creationDate'):\n",
    "    # Ensure day_data is sorted by startDate to get the correct last record\n",
    "    day_data_sorted = day_data.sort_values(by='startDate')\n",
    "\n",
    "    # Fetch the wake-up time from the last record's creationDate\n",
    "    wake_up_date = day_data_sorted['creationDate'].iloc[-1].date()\n",
    "    wake_up_time = day_data_sorted['creationDate'].iloc[-1].time()\n",
    "\n",
    "    # Calculate the total duration for each sleep state\n",
    "    sleep_durations = day_data_sorted.groupby('sleep_state')['duration'].sum()\n",
    "\n",
    "    day_summary = {\n",
    "        'creation_date': creation_date,\n",
    "        'wake_up_date': wake_up_date, \n",
    "        'wake_up_time': wake_up_time,\n",
    "        'last_sleep_state': day_data_sorted['sleep_state'].iloc[-1],\n",
    "        'sleep_deep_duration': sleep_durations.get(4, 0),  \n",
    "        'sleep_light_duration': sleep_durations.get(3, 0),  \n",
    "        'sleep_rem_duration': sleep_durations.get(2, 0),  \n",
    "        'sleep_awake_duration': sleep_durations.get(1, 0), \n",
    "        'total_sleep_duration': sum(sleep_durations)\n",
    "    }\n",
    "    aggregated_data.append(day_summary)\n",
    "\n",
    "# Convert the list of dictionaries to a DataFrame\n",
    "a_sleep_df = pd.DataFrame(aggregated_data)\n"
   ]
  },
  {
   "cell_type": "markdown",
   "metadata": {},
   "source": [
    "#### Load behaviour tracking data "
   ]
  },
  {
   "cell_type": "code",
   "execution_count": 140,
   "metadata": {},
   "outputs": [],
   "source": [
    "behaviour_tracking_data = pd.read_excel('data/Behavioural data app.xlsx')"
   ]
  },
  {
   "cell_type": "markdown",
   "metadata": {},
   "source": [
    "#### Save all data for further preprocessing "
   ]
  },
  {
   "cell_type": "code",
   "execution_count": 110,
   "metadata": {},
   "outputs": [],
   "source": [
    "# Sleep xiaomi, heart xiaomi, sleep apple, heart apple\n",
    "x_heart_rate_df.to_csv('data/x_heart_rate.csv', index=False)\n",
    "x_sleep_df.to_csv('data/x_sleep.csv', index=False)\n",
    "\n",
    "a_heart_rate_df.to_csv('data/a_heart_rate.csv', index=False)\n",
    "a_sleep_df.to_csv('data/a_sleep.csv', index=False)"
   ]
  },
  {
   "cell_type": "markdown",
   "metadata": {},
   "source": [
    "## Exploratory Data Analysis"
   ]
  },
  {
   "cell_type": "markdown",
   "metadata": {},
   "source": [
    "Hier simpel houden, bij analysis meer diepgang:\n",
    "- five nr summary per persoon voor heart and sleep data \n",
    "- heart rate scatter plots general en during sleep \n",
    "- heart rate plots over time per persoon \n",
    "- binary variabelen distribution van waardes "
   ]
  },
  {
   "cell_type": "code",
   "execution_count": 111,
   "metadata": {},
   "outputs": [],
   "source": [
    "# Numbers: data points per person, five number summary, find extreme values etc \n",
    "# do the same for all people together - merged dataset "
   ]
  },
  {
   "cell_type": "code",
   "execution_count": 124,
   "metadata": {},
   "outputs": [],
   "source": [
    "# x_heart_rate_df.head()"
   ]
  },
  {
   "cell_type": "code",
   "execution_count": 125,
   "metadata": {},
   "outputs": [],
   "source": [
    "# x_sleep_df.head()"
   ]
  },
  {
   "cell_type": "code",
   "execution_count": 126,
   "metadata": {},
   "outputs": [],
   "source": [
    "# a_heart_rate_df.head()"
   ]
  },
  {
   "cell_type": "code",
   "execution_count": 127,
   "metadata": {},
   "outputs": [],
   "source": [
    "# a_sleep_df.head()"
   ]
  },
  {
   "cell_type": "code",
   "execution_count": null,
   "metadata": {},
   "outputs": [],
   "source": []
  },
  {
   "cell_type": "markdown",
   "metadata": {},
   "source": []
  },
  {
   "cell_type": "code",
   "execution_count": null,
   "metadata": {},
   "outputs": [],
   "source": []
  },
  {
   "cell_type": "code",
   "execution_count": null,
   "metadata": {},
   "outputs": [],
   "source": []
  }
 ],
 "metadata": {
  "kernelspec": {
   "display_name": "Python 3",
   "language": "python",
   "name": "python3"
  },
  "language_info": {
   "codemirror_mode": {
    "name": "ipython",
    "version": 3
   },
   "file_extension": ".py",
   "mimetype": "text/x-python",
   "name": "python",
   "nbconvert_exporter": "python",
   "pygments_lexer": "ipython3",
   "version": "3.11.7"
  }
 },
 "nbformat": 4,
 "nbformat_minor": 2
}
